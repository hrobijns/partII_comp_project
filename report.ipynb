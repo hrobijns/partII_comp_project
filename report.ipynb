{
 "cells": [
  {
   "cell_type": "markdown",
   "metadata": {},
   "source": [
    "---\n",
    "\n",
    "# <u> **The Naïve, Barnes-Hut, and Fast Multipole Methods**  </u>\n",
    "### *Implementation, Analysis, and Evaluation of different Algorithms for $N$-Body Simulations*  \n",
    "\n",
    "**Author:** Hugo Robijns\n",
    "**Date:** April 2025  \n",
    "\n",
    "---"
   ]
  },
  {
   "cell_type": "markdown",
   "metadata": {},
   "source": [
    "### **Introduction:**\n",
    "\n",
    "This report aims to analyse and implement two of these algorithms, the Barnes-Hut [CITE] and fast multipole method (FMM) [CITE] techniques, alongside the brute-force $\\mathcal{O}(N^2)$ approach, in order to compare their performance and complexities. For the purpose of comparison, we will consider the 3D simulation of point masses under the influence of gravity.  \n"
   ]
  },
  {
   "cell_type": "code",
   "execution_count": 8,
   "metadata": {},
   "outputs": [],
   "source": [
    "from IPython.display import Image, display, HTML"
   ]
  },
  {
   "cell_type": "markdown",
   "metadata": {},
   "source": [
    "<center> Figure 1: a simulation of X </center>"
   ]
  },
  {
   "cell_type": "markdown",
   "metadata": {},
   "source": [
    "---\n",
    "## **1. Analysis of Algorithms**  \n"
   ]
  },
  {
   "cell_type": "markdown",
   "metadata": {},
   "source": [
    "### *1.1 Naïve pairwise calculation, $\\mathcal{O}(N^2)$*"
   ]
  },
  {
   "cell_type": "markdown",
   "metadata": {},
   "source": [
    "By Newton's Law of Gravitation, the gravitational force experienced by particle $i$ (mass $m_i$, position $\\vec{r}_i$) due to a particle $j$ (mass $m_j$, position $\\vec{r}_j$) is given by:\n",
    "$$ \\vec{F}_{ij} = \\frac{Gm_im_j}{|\\vec{r}_j-\\vec{r}_i|^2}\\cdot \\frac{\\vec{r}_j-\\vec{r}_i}{|\\vec{r}_j-\\vec{r}_i|} = \\frac{Gm_im_j (\\vec{r}_j-\\vec{r}_i)}{|\\vec{r}_j-\\vec{r}_i|^3} $$\n",
    "&emsp; &emsp; therefore for an $N$-body system, the equations of motion become:\n",
    "$$m_i \\frac{\\text{d}^2\\vec{r}_i}{\\text{d}t^2}  = \\sum_{j=1, j\\neq i}^{N} \\frac{Gm_im_j (\\vec{r}_j-\\vec{r}_i)}{|\\vec{r}_j-\\vec{r}_i|^3}$$ \n",
    "It is clear to see that in order to simulate such a system directly, we must carry out $N-1$ calculations for each of the $N$ bodies (or half of the bodies, if exploiting Newton's $3^\\text{rd}$ law), leading to a theoretical complexity of $\\mathcal{O}(N^2)$. Note also that the force between two bodies diverges as they get close to each other: this requires the inclusion of a softening parameter $\\epsilon$ which will be discussed further in section X."
   ]
  },
  {
   "cell_type": "markdown",
   "metadata": {},
   "source": [
    "### *1.2 Barnes-Hut Algorithm, $\\mathcal{O}(N\\log N)$*  \n",
    "The Barnes-Hut Algorithm attempts to reduce complexity by treating distance clusters of bodies as a single mass. It does this through the use of tree data structures, specifically an octree in 3D [CITE]. \n",
    "\n",
    "##### 1.2.1 Tree construction\n",
    "Beginning with a topmost node that represents the whole simulation space, an octree is formed by subdividing the space into 8 octants recursively until each body lies in its own leaf node, a node with no children (see Figure 2). Each node, both internal and leaf nodes, contains information about the total mass and centre of mass position of the node. Formally, they are construced by inserting bodies into the data structure one after the other:\n",
    "\n",
    "1. if the node in which the body is placed is an empty leaf node, put the body there and trivially update the total mass and centre of mass position of the node.\n",
    "\n",
    "2. if the node is an internal node (i.e. a node with children), update the total mass and centre of mass position of the node, and move downwards to the appropriate octant. \n",
    "\n",
    "3. if the node is a leaf node which already contains a body, update the total mass and centre of mass position of the node and subdivide this node into 8 octants. Then, place both bodies into their appropriate octants as above, which may require further subdivision if they end up in the same octant again.   \n"
   ]
  },
  {
   "cell_type": "code",
   "execution_count": 9,
   "metadata": {},
   "outputs": [
    {
     "data": {
      "text/html": [
       "<div style=\"text-align: center;\"><img src=\"figures/quadtree_plot.png\" width=\"400\"></div>"
      ],
      "text/plain": [
       "<IPython.core.display.HTML object>"
      ]
     },
     "execution_count": 9,
     "metadata": {},
     "output_type": "execute_result"
    }
   ],
   "source": [
    "HTML('<div style=\"text-align: center;\"><img src=\"figures/quadtree_plot.png\" width=\"400\"></div>')"
   ]
  },
  {
   "cell_type": "markdown",
   "metadata": {},
   "source": [
    "<center>Figure 2: a visualisation of the quadtree (the 2D equivalent of an octree) constructed for 20 bodies in a 2D simulation. The squares seen on the plot are the leaf nodes, the smallest subdivisions of the tree which have no children of themselves, and therefore contain either 0 or 1 bodies.</center>"
   ]
  },
  {
   "cell_type": "markdown",
   "metadata": {},
   "source": [
    "##### 1.2.2 Force calculation\n",
    "To calculate forces, the tree is recursively traversed from the root:\n",
    "\n"
   ]
  },
  {
   "cell_type": "markdown",
   "metadata": {},
   "source": [
    "\n",
    "### 1.3 Fast Multipole Method (FMM)  \n",
    "- Groups distant bodies into multipoles to reduce force calculations.  \n",
    "- Computational complexity: **O(N)**  \n",
    "- More complex but highly efficient for large-scale simulations. \n",
    "\n",
    "---"
   ]
  },
  {
   "cell_type": "markdown",
   "metadata": {},
   "source": [
    "## 2. Implementation and Performance  \n",
    "\n",
    "This section discusses how each method was implemented, including:  \n",
    "- **Data structures used (e.g., trees, arrays, linked lists)**  \n",
    "- **Optimization strategies (e.g., parallelization, caching, cutoff thresholds)**  \n",
    "- **Performance metrics (e.g., execution time, memory usage, error analysis)**  \n",
    "\n",
    "A performance comparison will be provided using **timing benchmarks** for different N.  \n",
    "\n",
    "---"
   ]
  },
  {
   "cell_type": "markdown",
   "metadata": {},
   "source": [
    "## 3. Results and Discussion  \n",
    "\n",
    "This section presents the experimental results and evaluates the efficiency of each algorithm.  \n",
    "- **Performance trade-offs**: How computational complexity translates into real execution time.  \n",
    "- **Accuracy vs. Speed**: Comparing force approximations in Barnes-Hut and FMM.  \n",
    "- **Scalability**: How well each method performs as N increases.  \n",
    "\n",
    "Plots and tables will be included to illustrate findings.  \n",
    "---"
   ]
  },
  {
   "cell_type": "markdown",
   "metadata": {},
   "source": [
    "## Bibliography  \n",
    "\n",
    "1. J. Barnes and P. Hut, *A Hierarchical O(N log N) Force-Calculation Algorithm*, Nature, 1986.  \n",
    "2. L. Greengard and V. Rokhlin, *A Fast Algorithm for Particle Simulations*, Journal of Computational Physics, 1987.  \n",
    "3. D. J. Griffiths, *Introduction to Electrodynamics*, Cambridge University Press, 2017.  "
   ]
  }
 ],
 "metadata": {
  "kernelspec": {
   "display_name": "comp_project",
   "language": "python",
   "name": "python3"
  },
  "language_info": {
   "codemirror_mode": {
    "name": "ipython",
    "version": 3
   },
   "file_extension": ".py",
   "mimetype": "text/x-python",
   "name": "python",
   "nbconvert_exporter": "python",
   "pygments_lexer": "ipython3",
   "version": "3.13.2"
  }
 },
 "nbformat": 4,
 "nbformat_minor": 2
}
